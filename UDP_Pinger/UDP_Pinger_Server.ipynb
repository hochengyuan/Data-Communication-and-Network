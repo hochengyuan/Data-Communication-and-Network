{
 "cells": [
  {
   "cell_type": "code",
   "execution_count": null,
   "metadata": {
    "collapsed": false
   },
   "outputs": [],
   "source": [
    "from socket import *\n",
    "import random\n",
    "def main():\n",
    "    serverSocket = socket(AF_INET, SOCK_DGRAM )\n",
    "    serverSocket.bind(('', 2014))\n",
    "    print(\"Waiting on port\" , 2014)\n",
    "\n",
    "    while True:\n",
    "        RandNum = random.randint(0,10)\n",
    "        data , clientAddress = serverSocket.recvfrom(1024)\n",
    "        newData =  data.upper()\n",
    "\n",
    "        if RandNum < 4:\n",
    "            print (\"packet lost\")\n",
    "            continue\n",
    "\n",
    "        serverSocket.sendto(newData, clientAddress)\n",
    "main()"
   ]
  },
  {
   "cell_type": "code",
   "execution_count": null,
   "metadata": {
    "collapsed": true
   },
   "outputs": [],
   "source": []
  },
  {
   "cell_type": "code",
   "execution_count": null,
   "metadata": {
    "collapsed": true
   },
   "outputs": [],
   "source": []
  }
 ],
 "metadata": {
  "kernelspec": {
   "display_name": "Python 3",
   "language": "python",
   "name": "python3"
  },
  "language_info": {
   "codemirror_mode": {
    "name": "ipython",
    "version": 3
   },
   "file_extension": ".py",
   "mimetype": "text/x-python",
   "name": "python",
   "nbconvert_exporter": "python",
   "pygments_lexer": "ipython3",
   "version": "3.6.0"
  }
 },
 "nbformat": 4,
 "nbformat_minor": 2
}
