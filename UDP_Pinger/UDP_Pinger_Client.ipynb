{
 "cells": [
  {
   "cell_type": "code",
   "execution_count": null,
   "metadata": {
    "collapsed": false
   },
   "outputs": [],
   "source": [
    "from socket import *\n",
    "import datetime\n",
    "import time\n",
    "\n",
    "def main():\n",
    "    #name of UDP server on computer\n",
    "    serverName = 'localhost'\n",
    "    port = 2014\n",
    "    clientSocket = socket(AF_INET, SOCK_DGRAM)\n",
    "    data = 'ping'\n",
    "\n",
    "    #set 10 times of pings\n",
    "    LastPing = 10\n",
    "    count = 0\n",
    "    clientSocket.settimeout(1)\n",
    "    print (\"Attempting to send \" , count , \"messages\" )\n",
    "\n",
    "    while count  < LastPing:\n",
    "        count = count + 1\n",
    "        startTime = time.time()\n",
    "        print(\"The current time is: \" , startTime , \" and this is message number: \" , count)\n",
    "        clientSocket.sendto(data.encode('ascii'), (serverName, port))\n",
    "\n",
    "        try:\n",
    "            newData, clientAddress = clientSocket.recvfrom(1024)\n",
    "            # count round-trip time (RTT)\n",
    "            RTT = ((time.time()) - startTime)\n",
    "            print (newData)\n",
    "            print (RTT)\n",
    "            \n",
    "        except timeout:\n",
    "            print(\" Request timed out \")\n",
    "        \n",
    "        except Exception as e:\n",
    "            print(e)\n",
    "    \n",
    "    print (\"the program is done\")\n",
    "\n",
    "main()"
   ]
  },
  {
   "cell_type": "code",
   "execution_count": null,
   "metadata": {
    "collapsed": true
   },
   "outputs": [],
   "source": []
  }
 ],
 "metadata": {
  "kernelspec": {
   "display_name": "Python 3",
   "language": "python",
   "name": "python3"
  },
  "language_info": {
   "codemirror_mode": {
    "name": "ipython",
    "version": 3
   },
   "file_extension": ".py",
   "mimetype": "text/x-python",
   "name": "python",
   "nbconvert_exporter": "python",
   "pygments_lexer": "ipython3",
   "version": "3.6.0"
  }
 },
 "nbformat": 4,
 "nbformat_minor": 2
}
