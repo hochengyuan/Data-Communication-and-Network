{
 "cells": [
  {
   "cell_type": "code",
   "execution_count": 17,
   "metadata": {
    "collapsed": false
   },
   "outputs": [
    {
     "name": "stdout",
     "output_type": "stream",
     "text": [
      "Please enter your Gmail username:hochengyuan@gmail.com\n",
      "Please enter your Gmail password:yuan0071\n",
      "b'--001a11440f66adabc5055bc68802\\r\\nContent-Type: text/plain; charset=\"UTF-8\"; format=flowed; delsp=yes\\r\\nContent-Transfer-Encoding: base64\\r\\n\\r\\n5bey5ZWf55So5a6J5YWo5oCn6LyD5L2O55qE5oeJ55So56iL5byP5a2Y5Y+W5qyKDQoNCg0KDQrk\\r\\nuJ7mt7Xmgqjlpb3vvJoNCuS9oOacgOi/keiuiuabtOS6huWuieWFqOaAp+ioreWumu+8jOWboOat\\r\\npOS9oOeahCBHb29nbGUg5biz5oi2IGhvY2hlbmd5dWFuQGdtYWlsLmNvbSDlt7LkuI3lho3lj5cg\\r\\nDQrliLDmnIDmlrDlronlhajmgKfmqJnmupbnmoTkv53orbfjgIINCg0K6KuL5rOo5oSP77yM54++\\r\\n5Zyo5oKo55qE5biz5oi26KKr55uc55So55qE5qmf546H6K6K6auY5LqG44CC5aaC6KaB5oGi5b6p\\r\\n5biz5oi25Y6f5pyJ55qE5a6J5YWo5oCn77yM6KuL5YmN5b6A6YCZ5YCLIA0K57ay6aCBDQo8aHR0\\r\\ncHM6Ly9teWFjY291bnQuZ29vZ2xlLmNvbS9sZXNzc2VjdXJlYXBwcz7lvqnljp/pgJnpoIXororm\\r\\nm7TvvIznhLblvozmlLnnlKggR29vZ2xlICANCumWi+eZvOeahOaHieeUqOeoi+W8jyAo5L6L5aaC\\r\\nDQpHbWFpbCkg5a2Y5Y+W5biz5oi244CCDQoNCirlsI3pgJnlgIvmtLvli5XmspLmnInljbDosaHl\\r\\nl47vvJ8qDQrnq4vljbPmn6XnnIvmgqjmnIDov5Hkvb/nlKjpgY7nmoToo53nva4NCjxodHRwczov\\r\\nL2FjY291bnRzLmdvb2dsZS5jb20vQWNjb3VudENob29zZXI/RW1haWw9aG9jaGVuZ3l1YW5AZ21h\\r\\naWwuY29tJmNvbnRpbnVlPWh0dHBzOi8vbXlhY2NvdW50Lmdvb2dsZS5jb20vZGV2aWNlLWFjdGl2\\r\\naXR5P3JmbiUzRDI4JTI2cmZuYyUzRDElMjZlaWQlM0QxOTc0OTM5NzMyMDgzMTI3NDkxJTI2ZXQl\\r\\nM0QwJTI2YXNhZSUzRDI+DQrjgIINCkdvb2dsZSDluLPmiLblsI/ntYTmlazkuIoNCg0KDQoNCuir\\r\\ni+WLv+WbnuimhumAmeWwgembu+WtkOmDteS7tuOAguWmgumcgOips+e0sOizh+ioiu+8jOiri+mA\\r\\noOioqiBHb29nbGUg5biz5oi26Kqq5piO5Lit5b+DDQo8aHR0cHM6Ly9zdXBwb3J0Lmdvb2dsZS5j\\r\\nb20vYWNjb3VudHMvYW5zd2VyLzYwMTAyNTU+44CCDQoNCg0KDQrmgqjnmoQgR29vZ2xlIOeUouWT\\r\\ngeaIluW4s+aItuaciemHjeWkp+iuiuabtO+8jOWboOatpOezu+e1seS+neimj+WumueZvOmAgemA\\r\\nmeWwgembu+WtkOmDteS7tuacjeWLmeWFrOWRiumAmuefpSANCuaCqOOAgg0KDQrCqSAyMDE3IEdv\\r\\nb2dsZSBJbmMuLCAxNjAwIEFtcGhpdGhlYXRyZSBQYXJrd2F5LCBNb3VudGFpbiBWaWV3LCBDQSA5\\r\\nNDA0MywgVVNBDQpldDoyOA0K\\r\\n--001a11440f66adabc5055bc68802\\r\\nContent-Type: text/html; charset=\"UTF-8\"\\r\\nContent-Transfer-Encoding: quoted-printable\\r\\n\\r\\n<html lang=3D\"zh-TW\"><head><meta name=3D\"format-detection\" content=3D\"date=\\r\\n=3Dno\"/><meta name=3D\"format-detection\" content=3D\"email=3Dno\"/><style>.awl=\\r\\n a {color: #FFFFFF; text-decoration: none;}.abml a {color: #000000; font-fa=\\r\\nmily: Roboto-Medium,Helvetica,Arial,sans-serif; font-weight: bold; text-dec=\\r\\noration: none;}.afal a {color: #b0b0b0; text-decoration: none;}@media scree=\\r\\nn and (min-width: 600px) {.v2sp {padding: 6px 30px 0px;} .v2rsp {padding: 0=\\r\\npx 10px;}}</style></head><body style=3D\"margin: 0; padding: 0;\" bgcolor=3D\"=\\r\\n#FFFFFF\"><table width=3D\"100%\" height=3D\"100%\" style=3D\"min-width: 348px;\" =\\r\\nborder=3D\"0\" cellspacing=3D\"0\" cellpadding=3D\"0\"><tr height=3D\"32px\"></tr><=\\r\\ntr align=3D\"center\"><td width=3D\"32px\"></td><td><table border=3D\"0\" cellspa=\\r\\ncing=3D\"0\" cellpadding=3D\"0\" style=3D\"max-width: 600px;\"><tr><td><table wid=\\r\\nth=3D\"100%\" border=3D\"0\" cellspacing=3D\"0\" cellpadding=3D\"0\"><tr><td align=\\r\\n=3D\"left\"><img width=3D\"92\" height=3D\"32\" src=3D\"https://www.gstatic.com/ac=\\r\\ncountalerts/email/googlelogo_color_188x64dp.png\" style=3D\"display: block; w=\\r\\nidth: 92px; height: 32px;\"></td><td align=3D\"right\"><img width=3D\"32\" heigh=\\r\\nt=3D\"32\" style=3D\"display: block; width: 32px; height: 32px;\" src=3D\"https:=\\r\\n//www.gstatic.com/accountalerts/email/shield.png\"></td></tr></table></td></=\\r\\ntr><tr height=3D\"16\"></tr><tr><td><table bgcolor=3D\"#D94235\" width=3D\"100%\"=\\r\\n border=3D\"0\" cellspacing=3D\"0\" cellpadding=3D\"0\" style=3D\"min-width: 332px=\\r\\n; max-width: 600px; border: 1px solid #F0F0F0; border-bottom: 0; border-top=\\r\\n-left-radius: 3px; border-top-right-radius: 3px;\"><tr><td height=3D\"72px\" c=\\r\\nolspan=3D\"3\"></td></tr><tr><td width=3D\"32px\"></td><td style=3D\"font-family=\\r\\n: Roboto-Regular,Helvetica,Arial,sans-serif; font-size: 24px; color: #FFFFF=\\r\\nF; line-height: 1.25; min-width: 300px;\">=E5=B7=B2=E5=95=9F=E7=94=A8=E5=AE=\\r\\n=89=E5=85=A8=E6=80=A7=E8=BC=83=E4=BD=8E=E7=9A=84=E6=87=89=E7=94=A8=E7=A8=8B=\\r\\n=E5=BC=8F=E5=AD=98=E5=8F=96=E6=AC=8A</td><td width=3D\"32px\"></td></tr><tr><=\\r\\ntd height=3D\"18px\" colspan=3D\"3\"></td></tr></table></td></tr><tr><td><table=\\r\\n bgcolor=3D\"#FAFAFA\" width=3D\"100%\" border=3D\"0\" cellspacing=3D\"0\" cellpadd=\\r\\ning=3D\"0\" style=3D\"min-width: 332px; max-width: 600px; border: 1px solid #F=\\r\\n0F0F0; border-bottom: 1px solid #C0C0C0; border-top: 0; border-bottom-left-=\\r\\nradius: 3px; border-bottom-right-radius: 3px;\"><tr height=3D\"16px\"><td widt=\\r\\nh=3D\"32px\" rowspan=3D\"3\"></td><td></td><td width=3D\"32px\" rowspan=3D\"3\"></t=\\r\\nd></tr><tr><td><table style=3D\"min-width: 300px;\" border=3D\"0\" cellspacing=\\r\\n=3D\"0\" cellpadding=3D\"0\"><tr><td style=3D\"font-family: Roboto-Regular,Helve=\\r\\ntica,Arial,sans-serif; font-size: 13px; color: #202020; line-height: 1.5;pa=\\r\\ndding-bottom: 4px;\">=E4=B8=9E=E6=B7=B5=E6=82=A8=E5=A5=BD=EF=BC=9A</td></tr>=\\r\\n<tr><td style=3D\"font-family: Roboto-Regular,Helvetica,Arial,sans-serif; fo=\\r\\nnt-size: 13px; color: #202020; line-height: 1.5;padding: 4px 0;\">=E4=BD=A0=\\r\\n=E6=9C=80=E8=BF=91=E8=AE=8A=E6=9B=B4=E4=BA=86=E5=AE=89=E5=85=A8=E6=80=A7=E8=\\r\\n=A8=AD=E5=AE=9A=EF=BC=8C=E5=9B=A0=E6=AD=A4=E4=BD=A0=E7=9A=84 Google =E5=B8=\\r\\n=B3=E6=88=B6 <a>hochengyuan@gmail.com</a> =E5=B7=B2=E4=B8=8D=E5=86=8D=E5=8F=\\r\\n=97=E5=88=B0=E6=9C=80=E6=96=B0=E5=AE=89=E5=85=A8=E6=80=A7=E6=A8=99=E6=BA=96=\\r\\n=E7=9A=84=E4=BF=9D=E8=AD=B7=E3=80=82<br><br>=E8=AB=8B=E6=B3=A8=E6=84=8F=EF=\\r\\n=BC=8C=E7=8F=BE=E5=9C=A8=E6=82=A8=E7=9A=84=E5=B8=B3=E6=88=B6=E8=A2=AB=E7=9B=\\r\\n=9C=E7=94=A8=E7=9A=84=E6=A9=9F=E7=8E=87=E8=AE=8A=E9=AB=98=E4=BA=86=E3=80=82=\\r\\n=E5=A6=82=E8=A6=81=E6=81=A2=E5=BE=A9=E5=B8=B3=E6=88=B6=E5=8E=9F=E6=9C=89=E7=\\r\\n=9A=84=E5=AE=89=E5=85=A8=E6=80=A7=EF=BC=8C=E8=AB=8B=E5=89=8D=E5=BE=80<a hre=\\r\\nf=3D\"https://myaccount.google.com/lesssecureapps\" style=3D\"text-decoration:=\\r\\n none; color: #4285F4;\" target=3D\"_blank\">=E9=80=99=E5=80=8B=E7=B6=B2=E9=A0=\\r\\n=81</a>=E5=BE=A9=E5=8E=9F=E9=80=99=E9=A0=85=E8=AE=8A=E6=9B=B4=EF=BC=8C=E7=\\r\\n=84=B6=E5=BE=8C=E6=94=B9=E7=94=A8 Google =E9=96=8B=E7=99=BC=E7=9A=84=E6=87=\\r\\n=89=E7=94=A8=E7=A8=8B=E5=BC=8F (=E4=BE=8B=E5=A6=82 Gmail) =E5=AD=98=E5=8F=\\r\\n=96=E5=B8=B3=E6=88=B6=E3=80=82<br><br><b>=E5=B0=8D=E9=80=99=E5=80=8B=E6=B4=\\r\\n=BB=E5=8B=95=E6=B2=92=E6=9C=89=E5=8D=B0=E8=B1=A1=E5=97=8E=EF=BC=9F</b><br>=\\r\\n=E7=AB=8B=E5=8D=B3=E6=9F=A5=E7=9C=8B=E6=82=A8<a href=3D\"https://accounts.go=\\r\\nogle.com/AccountChooser?Email=3Dhochengyuan@gmail.com&amp;continue=3Dhttps:=\\r\\n//myaccount.google.com/device-activity?rfn%3D28%26rfnc%3D1%26eid%3D19749397=\\r\\n32083127491%26et%3D0%26asae%3D2\" data-meta-key=3D\"review-devices\" style=3D\"=\\r\\ntext-decoration: none; color: #4285F4;\" target=3D\"_blank\">=E6=9C=80=E8=BF=\\r\\n=91=E4=BD=BF=E7=94=A8=E9=81=8E=E7=9A=84=E8=A3=9D=E7=BD=AE</a>=E3=80=82</td>=\\r\\n</tr><tr><td style=3D\"font-family: Roboto-Regular,Helvetica,Arial,sans-seri=\\r\\nf; font-size: 13px; color: #202020; line-height: 1.5; padding-top: 28px;\">G=\\r\\noogle =E5=B8=B3=E6=88=B6=E5=B0=8F=E7=B5=84=E6=95=AC=E4=B8=8A</td></tr><tr h=\\r\\neight=3D\"16px\"></tr><tr><td><table style=3D\"font-family: Roboto-Regular,Hel=\\r\\nvetica,Arial,sans-serif; font-size: 12px; color: #B9B9B9; line-height: 1.5;=\\r\\n\"><tr><td>=E8=AB=8B=E5=8B=BF=E5=9B=9E=E8=A6=86=E9=80=99=E5=B0=81=E9=9B=BB=\\r\\n=E5=AD=90=E9=83=B5=E4=BB=B6=E3=80=82=E5=A6=82=E9=9C=80=E8=A9=B3=E7=B4=B0=E8=\\r\\n=B3=87=E8=A8=8A=EF=BC=8C=E8=AB=8B=E9=80=A0=E8=A8=AA <a href=3D\"https://supp=\\r\\nort.google.com/accounts/answer/6010255\" data-meta-key=3D\"help\" style=3D\"tex=\\r\\nt-decoration: none; color: #4285F4;\" target=3D\"_blank\">Google =E5=B8=B3=E6=\\r\\n=88=B6=E8=AA=AA=E6=98=8E=E4=B8=AD=E5=BF=83</a>=E3=80=82</td></tr></table></=\\r\\ntd></tr></table></td></tr><tr height=3D\"32px\"></tr></table></td></tr><tr he=\\r\\night=3D\"16\"></tr><tr><td style=3D\"max-width: 600px; font-family: Roboto-Reg=\\r\\nular,Helvetica,Arial,sans-serif; font-size: 10px; color: #BCBCBC; line-heig=\\r\\nht: 1.5;\"><tr><td><table style=3D\"font-family: Roboto-Regular,Helvetica,Ari=\\r\\nal,sans-serif; font-size: 10px; color: #666666; line-height: 18px; padding-=\\r\\nbottom: 10px\"><tr><td>=E6=82=A8=E7=9A=84 Google =E7=94=A2=E5=93=81=E6=88=96=\\r\\n=E5=B8=B3=E6=88=B6=E6=9C=89=E9=87=8D=E5=A4=A7=E8=AE=8A=E6=9B=B4=EF=BC=8C=E5=\\r\\n=9B=A0=E6=AD=A4=E7=B3=BB=E7=B5=B1=E4=BE=9D=E8=A6=8F=E5=AE=9A=E7=99=BC=E9=80=\\r\\n=81=E9=80=99=E5=B0=81=E9=9B=BB=E5=AD=90=E9=83=B5=E4=BB=B6=E6=9C=8D=E5=8B=99=\\r\\n=E5=85=AC=E5=91=8A=E9=80=9A=E7=9F=A5=E6=82=A8=E3=80=82</td></tr><tr height=\\r\\n=3D\"6px\"></tr><tr><td><div style=3D\"direction: ltr; text-align: left\">&copy=\\r\\n; 2017 Google Inc., 1600 Amphitheatre Parkway, Mountain View, CA 94043, USA=\\r\\n</div><div style=3D\"display: none !important; mso-hide:all; max-height:0px;=\\r\\n max-width:0px;\">et:28</div></td></tr></table></td></tr></td></tr></table><=\\r\\n/td><td width=3D\"32px\"></td></tr><tr height=3D\"32px\"></tr></table></body></=\\r\\nhtml>\\r\\n--001a11440f66adabc5055bc68802--\\r\\n'\n"
     ]
    },
    {
     "data": {
      "text/plain": [
       "('BYE', [b'LOGOUT Requested'])"
      ]
     },
     "execution_count": 17,
     "metadata": {},
     "output_type": "execute_result"
    }
   ],
   "source": [
    "# use IMAP to recieve gmail\n",
    "import imaplib \n",
    "\n",
    "# connect to IMAP of Gmail\n",
    "messageServer = imaplib.IMAP4_SSL ('imap.gmail.com', 993)\n",
    "\n",
    "# type in username\n",
    "username = input('Please enter your Gmail username:') \n",
    "# type in password\n",
    "password = input('Please enter your Gmail password:') \n",
    "\n",
    "# login with\n",
    "messageServer.login(username, password) \n",
    "\n",
    "state , count = messageServer.select('Inbox') \n",
    "\n",
    "# Grab the first email 'count[0]' from my inbox.\n",
    "state , data = messageServer.fetch(count[0], '(UID BODY[TEXT])')\n",
    "print(data[0][1])\n",
    "\n",
    "\n",
    "messageServer.close()\n",
    "\n",
    "messageServer.logout()"
   ]
  },
  {
   "cell_type": "code",
   "execution_count": null,
   "metadata": {
    "collapsed": false
   },
   "outputs": [],
   "source": []
  },
  {
   "cell_type": "code",
   "execution_count": null,
   "metadata": {
    "collapsed": true
   },
   "outputs": [],
   "source": []
  }
 ],
 "metadata": {
  "kernelspec": {
   "display_name": "Python 3",
   "language": "python",
   "name": "python3"
  },
  "language_info": {
   "codemirror_mode": {
    "name": "ipython",
    "version": 3
   },
   "file_extension": ".py",
   "mimetype": "text/x-python",
   "name": "python",
   "nbconvert_exporter": "python",
   "pygments_lexer": "ipython3",
   "version": "3.6.0"
  }
 },
 "nbformat": 4,
 "nbformat_minor": 2
}
